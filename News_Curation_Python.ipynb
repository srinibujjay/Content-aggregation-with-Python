{
 "cells": [
  {
   "cell_type": "code",
   "execution_count": 1,
   "metadata": {},
   "outputs": [
    {
     "name": "stdout",
     "output_type": "stream",
     "text": [
      "[nltk_data] Downloading package punkt to\n",
      "[nltk_data]     C:\\Users\\srinivna\\AppData\\Roaming\\nltk_data...\n",
      "[nltk_data]   Package punkt is already up-to-date!\n"
     ]
    },
    {
     "data": {
      "text/plain": [
       "True"
      ]
     },
     "execution_count": 1,
     "metadata": {},
     "output_type": "execute_result"
    }
   ],
   "source": [
    "from newspaper import Article \n",
    "import nltk\n",
    "nltk.download('punkt')"
   ]
  },
  {
   "cell_type": "code",
   "execution_count": 2,
   "metadata": {},
   "outputs": [],
   "source": [
    "#A new article from Frauscher web page\n",
    "url = \"https://blog.frauscher.com/en/1943/frauscher-india-growing-size\""
   ]
  },
  {
   "cell_type": "code",
   "execution_count": 3,
   "metadata": {},
   "outputs": [],
   "source": [
    "fsti_article = Article(url, language=\"en\") # en for English "
   ]
  },
  {
   "cell_type": "code",
   "execution_count": 4,
   "metadata": {},
   "outputs": [],
   "source": [
    "#To download the article \n",
    "fsti_article.download() "
   ]
  },
  {
   "cell_type": "code",
   "execution_count": 5,
   "metadata": {},
   "outputs": [],
   "source": [
    "#To parse the article \n",
    "fsti_article.parse() "
   ]
  },
  {
   "cell_type": "code",
   "execution_count": 6,
   "metadata": {},
   "outputs": [],
   "source": [
    "#To perform natural language processing ie..nlp \n",
    "fsti_article.nlp() "
   ]
  },
  {
   "cell_type": "code",
   "execution_count": 7,
   "metadata": {},
   "outputs": [
    {
     "name": "stdout",
     "output_type": "stream",
     "text": [
      "Article's Title:\n",
      "Frauscher India: growing in size and confidence\n",
      "n\n",
      "Article's Text:\n",
      "Frauscher India is facing its sixth year of existence and will continue to grow stronger. As managing director from the first day, Alok Sinha explains why – and how.\n",
      "\n",
      "In July 2013, Frauscher made its debut in India. Alok Sinha has been Managing Director of the location from the first day. He is one of the driving forces behind the steady growth of Frauscher India in all segments of the railway industry. To be able to cope with rising demands, the company also grew internally over the years. Today, Mr Sinha leads a team of more than 100 employees located across India. In this article, he reports on this success story and gives an outlook on what will happen next.\n",
      "\n",
      "Alok Sinha, Managing Director of Frauscher India Private Limited\n",
      "\n",
      "Multi-location presence\n",
      "\n",
      "It has always been a major pillar of Frauscher’s philosophy to be close to the customer in all markets. India has huge potential for our company – which is one of many reasons why we’re present in not less than five locations throughout the country today. The head office is in Bengaluru, whilst the production facility is located in Mysore. Regional project offices can be found in New Delhi, Mumbai and Kolkota.\n",
      "\n",
      "Frauscher India counts more than 100 employees and is spread over five locations throughout the country.\n",
      "\n",
      "This growing infrastructure within our company has created a strong momentum. We are using this to investigate and realise a range of optimisations. These changes affect the working environment of our team and will assist them in reaching out to all of our customers with ease and within stipulated time frames. Thanks to the strengths that we have developed, we have even extended our coverage to customers outside the borders of India.\n",
      "\n",
      "New production site in Mysore\n",
      "\n",
      "Serving a rising number of projects and meeting increasing demands has not only made Frauscher India stronger, but also bigger. This can be seen in all of our locations. Whilst Frauscher Bengaluru and Frauscher Delhi moved to their new offices in 2017, Frauscher Mysore is moving to a new and grander site in May 2019. This will be inaugurated in spring this year.\n",
      "\n",
      "The new production facility in Mysore will provide more space for production, but also for offices and more.\n",
      "\n",
      "Meticulous planning and innovative design will support the team on site in meeting all relevant production requirements. Optional needs for future growth have been considered as well. The new facility will provide space for multiple meeting rooms, a dedicated RDSO inspection area, quality check and quality assurance departments, a warehouse, separate areas for sensor assembly and packing, as well as work stations for all employees, an in-house cafeteria and more. Some facts:\n",
      "\n",
      "The building comprises approx. 3 500 m²\n",
      "\n",
      "It has 3 floors, which are connected with a load lift\n",
      "\n",
      "There will be office space for up to 30 employees\n",
      "\n",
      "Space for Frauscher Rail Signalling Systems – an exclusive joint venture\n",
      "\n",
      "Our joint venture (JV) company Frauscher Rail Signalling Systems will operate from the same building as well. This JV Company with Hitachi was founded in 2016 in order to support Hitachi’s mainline railway projects in India as well as throughout the Asian railway market. We are happy to claim that the JV Company is performing very well and is successfully delivering one of our largest projects, the Western Dedicated Freight Corridor Project, for Hitachi.\n",
      "\n",
      "The Western Dedicated Freight Corridor is one of the most comprehensive rail projects in India.\n",
      "\n",
      "Major projects in various segments\n",
      "\n",
      "It was been a very exciting journey over the last six years, throughout which Frauscher India has seen nothing but exceptional growth. The RDSO certification was gained for the Axle Counter System ACS2000 in 2014 and then for the Frauscher Advanced Counter FAdC in 2017. Frauscher now leads the metro market with the DMRC, Noida Metro and Lucknow Metro projects. Additionally, Frauscher India won major projects with the Dedicated Freight Corridor Corporation, namely the earlier mentioned Western Corridor project, as well as the Eastern Dedicated Freight Corridor project. On top of that, Frauscher products have been implemented in 14 out of 17 zones of Indian Railways.\n",
      "\n",
      "Technology leader with proven as well as new solutions\n",
      "\n",
      "As per the quote, “Innovation is seeing what everybody has seen and thinking what nobody has thought”, Frauscher also became a pioneer in introducing a set of solutions to the railway industry that is based on Distributed Acoustic Sensing (DAS). Through comprehensive research and development, Frauscher has made this technology applicable for dedicated railway applications. In India, we are currently working on our first local FTS project in the NCR region. With many more opportunities finding their way for various FTS applications, we are sure that Frauscher India will not only remain a leading provider for axle counters, but will also provide the market with unique tracking solutions. With a good backlog of orders, and many large projects in the pipeline, we are all set for continued success in the coming years.\n",
      "n\n",
      "Article's Summary:\n",
      "Frauscher India is facing its sixth year of existence and will continue to grow stronger.\n",
      "He is one of the driving forces behind the steady growth of Frauscher India in all segments of the railway industry.\n",
      "Alok Sinha, Managing Director of Frauscher India Private LimitedMulti-location presenceIt has always been a major pillar of Frauscher’s philosophy to be close to the customer in all markets.\n",
      "Frauscher India counts more than 100 employees and is spread over five locations throughout the country.\n",
      "Additionally, Frauscher India won major projects with the Dedicated Freight Corridor Corporation, namely the earlier mentioned Western Corridor project, as well as the Eastern Dedicated Freight Corridor project.\n",
      "n\n",
      "Article's Keywords:\n",
      "['railway', 'dedicated', 'sinha', 'frauscher', 'projects', 'growing', 'production', 'project', 'confidence', 'india', 'size', 'company', 'corridor']\n"
     ]
    }
   ],
   "source": [
    "#To extract title \n",
    "print(\"Article's Title:\") \n",
    "print(fsti_article.title) \n",
    "print(\"n\") \n",
    "  \n",
    "#To extract text \n",
    "print(\"Article's Text:\") \n",
    "print(fsti_article.text) \n",
    "print(\"n\") \n",
    "  \n",
    "#To extract summary \n",
    "print(\"Article's Summary:\") \n",
    "print(fsti_article.summary) \n",
    "print(\"n\") \n",
    "  \n",
    "#To extract keywords \n",
    "print(\"Article's Keywords:\") \n",
    "print(fsti_article.keywords) "
   ]
  }
 ],
 "metadata": {
  "kernelspec": {
   "display_name": "Python 3",
   "language": "python",
   "name": "python3"
  },
  "language_info": {
   "codemirror_mode": {
    "name": "ipython",
    "version": 3
   },
   "file_extension": ".py",
   "mimetype": "text/x-python",
   "name": "python",
   "nbconvert_exporter": "python",
   "pygments_lexer": "ipython3",
   "version": "3.6.7"
  }
 },
 "nbformat": 4,
 "nbformat_minor": 2
}
