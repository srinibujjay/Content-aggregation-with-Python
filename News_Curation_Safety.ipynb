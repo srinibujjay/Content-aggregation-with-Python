{
 "cells": [
  {
   "cell_type": "code",
   "execution_count": 1,
   "metadata": {},
   "outputs": [
    {
     "name": "stdout",
     "output_type": "stream",
     "text": [
      "[nltk_data] Downloading package punkt to\n",
      "[nltk_data]     C:\\Users\\srinivna\\AppData\\Roaming\\nltk_data...\n",
      "[nltk_data]   Package punkt is already up-to-date!\n"
     ]
    },
    {
     "data": {
      "text/plain": [
       "True"
      ]
     },
     "execution_count": 1,
     "metadata": {},
     "output_type": "execute_result"
    }
   ],
   "source": [
    "from newspaper import Article \n",
    "import nltk\n",
    "nltk.download('punkt')"
   ]
  },
  {
   "cell_type": "code",
   "execution_count": 2,
   "metadata": {},
   "outputs": [],
   "source": [
    "#A new article from Frauscher web page\n",
    "url = \"https://blog.frauscher.com/en/1933/safety-month-in-india\""
   ]
  },
  {
   "cell_type": "code",
   "execution_count": 3,
   "metadata": {},
   "outputs": [],
   "source": [
    "fsti_article = Article(url, language=\"en\") # en for English "
   ]
  },
  {
   "cell_type": "code",
   "execution_count": 4,
   "metadata": {},
   "outputs": [],
   "source": [
    "#To download the article \n",
    "fsti_article.download() "
   ]
  },
  {
   "cell_type": "code",
   "execution_count": 5,
   "metadata": {},
   "outputs": [],
   "source": [
    "#To parse the article \n",
    "fsti_article.parse() "
   ]
  },
  {
   "cell_type": "code",
   "execution_count": 6,
   "metadata": {},
   "outputs": [],
   "source": [
    "#To perform natural language processing ie..nlp \n",
    "fsti_article.nlp() "
   ]
  },
  {
   "cell_type": "code",
   "execution_count": 7,
   "metadata": {},
   "outputs": [
    {
     "name": "stdout",
     "output_type": "stream",
     "text": [
      "Article's Title:\n",
      "Safety Integrated March at Frauscher India\n",
      "n\n",
      "Article's Text:\n",
      "Frauscher India celebrated National Safety Day and month with a lot of activities in all the offices across India in the month of March\n",
      "\n",
      "National Safety Day, observed on 4th March every year in India, was quite enthusiastically celebrated at Frauscher India as well. All the offices, Bengaluru, Mysore, New Delhi, Mumbai and Kolkata, held safety integrated activities during the month of March. This period of one month or better termed as the ‘Safety Month’ had some fun filled activities which gave employees some important lessons on safety and health.\n",
      "\n",
      "The staff in New Delhi learned many important things about safety and health during the “Safety Month”\n",
      "\n",
      "Objectives of the campaign\n",
      "\n",
      "The main objective of this campaign was to ensure that safety and health are integrated in work culture and life style and are not just mere words that some speakers come and talk about. Apart from that, the focus was also on renewing the commitment of all employees towards safety and health at their workplace, which includes everyone sitting in the office, production unit and working on site in the fields.\n",
      "\n",
      "The Mumbai production team also participated in the safety and health instructions\n",
      "\n",
      "A special team from all over India was set up to plan everything systematically, carry out the activities smoothly and prepare the office for the safety month. This Environment Health & Safety Committee has been instrumental in carrying out all the activities. The team also aimed to achieve a greater participation of the employees in Occupational Health & Safety activities.\n",
      "\n",
      "Preparation and Competition\n",
      "\n",
      "Even before the safety month started, decorations were installed in all locations pan India. There were banners, standees and posters put up at each office, causing awareness about safety and health. Compilations of Napo videos on safety were played on various screens. Special safety badges were made and pre handed to all the employees. This badge had to be worn by each and everyone including the top management for one week. They helped in spreading awareness not just within Frauscher’s office, but to people from other offices as well. The badge was orange with the official safety sign printed on it. Before this month kicked off, the EHS team had also announced a ‘Safety Slogan Competition’. The participants had to send one slogan, which was judged by the management team and announced to the winners later.\n",
      "\n",
      "Frauscher India, live and alive\n",
      "\n",
      "The safety month started on 4th March 2019, National Safety Day, with all the employees in Bengaluru office assembling at the pantry area and employees from other office joining via video call. The employees took the safety pledge together. After the pledge, winners of the safety slogan contest were announced.\n",
      "\n",
      "Safety Pledge shared on screens in all Indian offices\n",
      "\n",
      "Many activities took place during the course of the safety month. Mysore and Bengaluru office went through a safety audit. Employees working in the production unit in Mysore or on-site at tracks and installations in the field had a special session on safety work instructions. A session on ‘Incident Management‘ was kept for all employees across India where the main focus was on different types of incidents and ways to deal with them. Additionally, an evacuation drill was carried out in the Mysore’s production unit.\n",
      "\n",
      "Our colleagues got new safety work instructions during the audit in Mysore\n",
      "\n",
      "With International Women’s Day falling during the safety month, a special Kyokushin karate session was held for all female employees. Furthermore, a session on stress management was held in the Bengaluru office, where employees from other locations again joined in via video call. In this session the speaker talked about how humans are connected to nature and how not being in their natural habitat makes their stress levels grow. The stress management session had a lot of activities, which were enjoyed by all participants, as they really took a lot of stress from everyone’s shoulders.\n",
      "\n",
      "Group activities during the stress management session in Bengaluru\n",
      "\n",
      "About National Safety Day\n",
      "\n",
      "In 1972, the National Safety Council was founded in India. Ever since, 4th of March is dedicated as National Safety Day throughout the country. This makes 2019 the 47th year in running. On this occasion, an India-wide campaign is conducted for Occupational Health and Safety, which is observed by industries, regulatory agencies, NGOs and other institutions.\n",
      "n\n",
      "Article's Summary:\n",
      "Frauscher India celebrated National Safety Day and month with a lot of activities in all the offices across India in the month of MarchNational Safety Day, observed on 4th March every year in India, was quite enthusiastically celebrated at Frauscher India as well.\n",
      "Preparation and CompetitionEven before the safety month started, decorations were installed in all locations pan India.\n",
      "Frauscher India, live and aliveThe safety month started on 4th March 2019, National Safety Day, with all the employees in Bengaluru office assembling at the pantry area and employees from other office joining via video call.\n",
      "Safety Pledge shared on screens in all Indian officesMany activities took place during the course of the safety month.\n",
      "Group activities during the stress management session in BengaluruAbout National Safety DayIn 1972, the National Safety Council was founded in India.\n",
      "n\n",
      "Article's Keywords:\n",
      "['office', 'safety', 'month', 'team', 'management', 'activities', 'frauscher', 'employees', 'integrated', 'india', 'session', 'health']\n"
     ]
    }
   ],
   "source": [
    "#To extract title \n",
    "print(\"Article's Title:\") \n",
    "print(fsti_article.title) \n",
    "print(\"n\") \n",
    "  \n",
    "#To extract text \n",
    "print(\"Article's Text:\") \n",
    "print(fsti_article.text) \n",
    "print(\"n\") \n",
    "  \n",
    "#To extract summary \n",
    "print(\"Article's Summary:\") \n",
    "print(fsti_article.summary) \n",
    "print(\"n\") \n",
    "  \n",
    "#To extract keywords \n",
    "print(\"Article's Keywords:\") \n",
    "print(fsti_article.keywords) "
   ]
  }
 ],
 "metadata": {
  "kernelspec": {
   "display_name": "Python 3",
   "language": "python",
   "name": "python3"
  },
  "language_info": {
   "codemirror_mode": {
    "name": "ipython",
    "version": 3
   },
   "file_extension": ".py",
   "mimetype": "text/x-python",
   "name": "python",
   "nbconvert_exporter": "python",
   "pygments_lexer": "ipython3",
   "version": "3.6.7"
  }
 },
 "nbformat": 4,
 "nbformat_minor": 2
}
